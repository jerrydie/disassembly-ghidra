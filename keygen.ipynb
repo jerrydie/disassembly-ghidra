{
 "cells": [
  {
   "cell_type": "code",
   "execution_count": 5,
   "metadata": {},
   "outputs": [
    {
     "name": "stdout",
     "output_type": "stream",
     "text": [
      "Enter your name: \n",
      "Bob\n",
      "Your key is: 2295, Bob!\n"
     ]
    }
   ],
   "source": [
    "def keygen(name):\n",
    "    banlist = [\"Kirill\", \"Alisa\", \"Renat\", \"Yura\", \"Denis\", \"Alex\", \"kolyavv\"]\n",
    "    key = 2*1010\n",
    "    if name in banlist:\n",
    "        return \"You are banned, \" + name + \", sorry, no key :(\"\n",
    "    for ch in name:\n",
    "        key += ord(ch)\n",
    "    return \"Your key is: \" + str(key) + \", \" + name + \"!\"\n",
    "\n",
    "print(\"Enter your name: \")\n",
    "name = input()\n",
    "print(keygen(name))"
   ]
  }
 ],
 "metadata": {
  "kernelspec": {
   "display_name": "Python 3",
   "language": "python",
   "name": "python3"
  },
  "language_info": {
   "codemirror_mode": {
    "name": "ipython",
    "version": 3
   },
   "file_extension": ".py",
   "mimetype": "text/x-python",
   "name": "python",
   "nbconvert_exporter": "python",
   "pygments_lexer": "ipython3",
   "version": "3.8.5"
  }
 },
 "nbformat": 4,
 "nbformat_minor": 4
}
